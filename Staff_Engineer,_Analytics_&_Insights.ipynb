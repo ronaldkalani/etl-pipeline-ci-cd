{
  "nbformat": 4,
  "nbformat_minor": 0,
  "metadata": {
    "colab": {
      "provenance": []
    },
    "kernelspec": {
      "name": "python3",
      "display_name": "Python 3"
    },
    "language_info": {
      "name": "python"
    }
  },
  "cells": [
    {
      "cell_type": "markdown",
      "source": [
        "**Modern BI-Ready Analytics Pipeline for Customer Behavior Segmentation Using Python, dbt, and Power BI**\n",
        "\n"
      ],
      "metadata": {
        "id": "HGF1WAHXF09X"
      }
    },
    {
      "cell_type": "markdown",
      "source": [
        "**Goal**"
      ],
      "metadata": {
        "id": "uA7o961FF_Rn"
      }
    },
    {
      "cell_type": "markdown",
      "source": [
        "To design and implement a scalable machine learning pipeline that predicts delivery delays and segments customer behavior using historical logistics, rating, and transactional data. The project combines feature engineering, model training, dashboard reporting, and CI/CD automation to support operational decision-making and data reliability."
      ],
      "metadata": {
        "id": "CVW3Tx-oGJmq"
      }
    },
    {
      "cell_type": "markdown",
      "source": [
        " **Intended Audience**"
      ],
      "metadata": {
        "id": "gYu6DZZ8GJa3"
      }
    },
    {
      "cell_type": "markdown",
      "source": [
        "- Data Engineers – for implementing ETL, CI/CD, and model lifecycle\n",
        "\n",
        "- BI Analysts – for visualization and customer segmentation\n",
        "\n",
        "- Operations Managers – for warehouse and logistics optimization\n",
        "\n",
        "- ML Practitioners – for experimentation, evaluation, and insights\n",
        "\n",
        "- Product and Strategy Teams – to support delay reduction and customer experience improvement"
      ],
      "metadata": {
        "id": "7-ghbSYMjsqv"
      }
    },
    {
      "cell_type": "markdown",
      "source": [
        "**Strategy & Pipeline Steps**"
      ],
      "metadata": {
        "id": "JMierb6WGJO-"
      }
    },
    {
      "cell_type": "markdown",
      "source": [
        "1. Data Ingestion\n",
        "\n",
        "- Load delivery data from Google Drive or local storage (CSV)\n",
        "\n",
        "- Handle encoding, data types, and NA values\n",
        "\n",
        "2. Data Quality & Transformation (dbt-style logic)\n",
        "\n",
        "- Clean fields (e.g., Customer_rating, Cost_of_the_Product)\n",
        "\n",
        "- Engineer delivery_risk_score using custom weight logic\n",
        "\n",
        "- Encode delay labels and normalize features\n",
        "\n",
        "3. Exploratory Data Analysis\n",
        "\n",
        "- Visualize relationships using Power BI:\n",
        "Warehouse_block, Customer_care_calls, Discount_offered, and Gender\n",
        "\n",
        "4. Machine Learning Modeling\n",
        "\n",
        "- Train classification models (Logistic Regression, Random Forest, or XGBoost)\n",
        "\n",
        "- Predict Reached.on.Time_Y.N as Delivery_Status\n",
        "\n",
        "5. Model Evaluation\n",
        "\n",
        "- Use accuracy, precision, recall, and F1-score\n",
        "\n",
        "- Apply cross-validation and feature importance analysis\n",
        "\n",
        "6. CI/CD Pipeline\n",
        "\n",
        "- Use GitHub Actions to run unit tests and linting on each push\n",
        "\n",
        "- Enforce test coverage and code quality via pytest, flake8, and coverage\n",
        "\n",
        "7. Dashboard Reporting\n",
        "\n",
        "- Generate business KPIs by warehouse, gender, and risk group in Power BI\n",
        "\n",
        "- Use filterable visuals and exportable CSVs"
      ],
      "metadata": {
        "id": "tiWd7zaukFqr"
      }
    },
    {
      "cell_type": "markdown",
      "source": [
        "**Challenges**"
      ],
      "metadata": {
        "id": "9QqBHmFDlQWZ"
      }
    },
    {
      "cell_type": "markdown",
      "source": [
        "- Imbalanced delivery label classes (delayed vs on-time)\n",
        "\n",
        "- No time-based features (e.g., delivery date, order timestamp)\n",
        "\n",
        "- Limited contextual signals (e.g., traffic, region, weather)\n",
        "\n",
        "- Missing customer feedback sentiment for deeper segmentation\n",
        "\n",
        "- Operational anomalies (e.g., bulk orders, priority shipments)\n",
        "\n"
      ],
      "metadata": {
        "id": "aJM15lvilSWS"
      }
    },
    {
      "cell_type": "markdown",
      "source": [
        "**Problem Statement**"
      ],
      "metadata": {
        "id": "41JMI1AelboJ"
      }
    },
    {
      "cell_type": "markdown",
      "source": [
        "How can we proactively identify delivery risks and segment customer interaction profiles to reduce delays and improve satisfaction, using a robust, testable, and automated AI/ML pipeline?"
      ],
      "metadata": {
        "id": "7L8QIFqGlllg"
      }
    },
    {
      "cell_type": "markdown",
      "source": [
        "**Strategy & Pipeline Steps**"
      ],
      "metadata": {
        "id": "11r-cOlwGJAC"
      }
    },
    {
      "cell_type": "markdown",
      "source": [
        "**1. Ingest Raw CSV from Local Google Drive**"
      ],
      "metadata": {
        "id": "05hkT_y7GPie"
      }
    },
    {
      "source": [
        "import pandas as pd\n",
        "\n",
        "file_path = '/content/drive/My Drive/Staff Engineer, Analytics & Insights/Train.csv'\n",
        "df = pd.read_csv(file_path)\n",
        "df.head()\n"
      ],
      "cell_type": "code",
      "metadata": {
        "colab": {
          "base_uri": "https://localhost:8080/",
          "height": 226
        },
        "id": "-VZO6NVwG2_n",
        "outputId": "25aee310-1d2a-4d7f-834a-483bbc48bc40"
      },
      "execution_count": null,
      "outputs": [
        {
          "output_type": "execute_result",
          "data": {
            "text/plain": [
              "   ID Warehouse_block Mode_of_Shipment  Customer_care_calls  Customer_rating  \\\n",
              "0   1               D           Flight                    4                2   \n",
              "1   2               F           Flight                    4                5   \n",
              "2   3               A           Flight                    2                2   \n",
              "3   4               B           Flight                    3                3   \n",
              "4   5               C           Flight                    2                2   \n",
              "\n",
              "   Cost_of_the_Product  Prior_purchases Product_importance Gender  \\\n",
              "0                  177                3                low      F   \n",
              "1                  216                2                low      M   \n",
              "2                  183                4                low      M   \n",
              "3                  176                4             medium      M   \n",
              "4                  184                3             medium      F   \n",
              "\n",
              "   Discount_offered  Weight_in_gms  Reached.on.Time_Y.N  \n",
              "0                44           1233                    1  \n",
              "1                59           3088                    1  \n",
              "2                48           3374                    1  \n",
              "3                10           1177                    1  \n",
              "4                46           2484                    1  "
            ],
            "text/html": [
              "\n",
              "  <div id=\"df-299e0bc3-7b68-4cd8-bb68-140b62e0004c\" class=\"colab-df-container\">\n",
              "    <div>\n",
              "<style scoped>\n",
              "    .dataframe tbody tr th:only-of-type {\n",
              "        vertical-align: middle;\n",
              "    }\n",
              "\n",
              "    .dataframe tbody tr th {\n",
              "        vertical-align: top;\n",
              "    }\n",
              "\n",
              "    .dataframe thead th {\n",
              "        text-align: right;\n",
              "    }\n",
              "</style>\n",
              "<table border=\"1\" class=\"dataframe\">\n",
              "  <thead>\n",
              "    <tr style=\"text-align: right;\">\n",
              "      <th></th>\n",
              "      <th>ID</th>\n",
              "      <th>Warehouse_block</th>\n",
              "      <th>Mode_of_Shipment</th>\n",
              "      <th>Customer_care_calls</th>\n",
              "      <th>Customer_rating</th>\n",
              "      <th>Cost_of_the_Product</th>\n",
              "      <th>Prior_purchases</th>\n",
              "      <th>Product_importance</th>\n",
              "      <th>Gender</th>\n",
              "      <th>Discount_offered</th>\n",
              "      <th>Weight_in_gms</th>\n",
              "      <th>Reached.on.Time_Y.N</th>\n",
              "    </tr>\n",
              "  </thead>\n",
              "  <tbody>\n",
              "    <tr>\n",
              "      <th>0</th>\n",
              "      <td>1</td>\n",
              "      <td>D</td>\n",
              "      <td>Flight</td>\n",
              "      <td>4</td>\n",
              "      <td>2</td>\n",
              "      <td>177</td>\n",
              "      <td>3</td>\n",
              "      <td>low</td>\n",
              "      <td>F</td>\n",
              "      <td>44</td>\n",
              "      <td>1233</td>\n",
              "      <td>1</td>\n",
              "    </tr>\n",
              "    <tr>\n",
              "      <th>1</th>\n",
              "      <td>2</td>\n",
              "      <td>F</td>\n",
              "      <td>Flight</td>\n",
              "      <td>4</td>\n",
              "      <td>5</td>\n",
              "      <td>216</td>\n",
              "      <td>2</td>\n",
              "      <td>low</td>\n",
              "      <td>M</td>\n",
              "      <td>59</td>\n",
              "      <td>3088</td>\n",
              "      <td>1</td>\n",
              "    </tr>\n",
              "    <tr>\n",
              "      <th>2</th>\n",
              "      <td>3</td>\n",
              "      <td>A</td>\n",
              "      <td>Flight</td>\n",
              "      <td>2</td>\n",
              "      <td>2</td>\n",
              "      <td>183</td>\n",
              "      <td>4</td>\n",
              "      <td>low</td>\n",
              "      <td>M</td>\n",
              "      <td>48</td>\n",
              "      <td>3374</td>\n",
              "      <td>1</td>\n",
              "    </tr>\n",
              "    <tr>\n",
              "      <th>3</th>\n",
              "      <td>4</td>\n",
              "      <td>B</td>\n",
              "      <td>Flight</td>\n",
              "      <td>3</td>\n",
              "      <td>3</td>\n",
              "      <td>176</td>\n",
              "      <td>4</td>\n",
              "      <td>medium</td>\n",
              "      <td>M</td>\n",
              "      <td>10</td>\n",
              "      <td>1177</td>\n",
              "      <td>1</td>\n",
              "    </tr>\n",
              "    <tr>\n",
              "      <th>4</th>\n",
              "      <td>5</td>\n",
              "      <td>C</td>\n",
              "      <td>Flight</td>\n",
              "      <td>2</td>\n",
              "      <td>2</td>\n",
              "      <td>184</td>\n",
              "      <td>3</td>\n",
              "      <td>medium</td>\n",
              "      <td>F</td>\n",
              "      <td>46</td>\n",
              "      <td>2484</td>\n",
              "      <td>1</td>\n",
              "    </tr>\n",
              "  </tbody>\n",
              "</table>\n",
              "</div>\n",
              "    <div class=\"colab-df-buttons\">\n",
              "\n",
              "  <div class=\"colab-df-container\">\n",
              "    <button class=\"colab-df-convert\" onclick=\"convertToInteractive('df-299e0bc3-7b68-4cd8-bb68-140b62e0004c')\"\n",
              "            title=\"Convert this dataframe to an interactive table.\"\n",
              "            style=\"display:none;\">\n",
              "\n",
              "  <svg xmlns=\"http://www.w3.org/2000/svg\" height=\"24px\" viewBox=\"0 -960 960 960\">\n",
              "    <path d=\"M120-120v-720h720v720H120Zm60-500h600v-160H180v160Zm220 220h160v-160H400v160Zm0 220h160v-160H400v160ZM180-400h160v-160H180v160Zm440 0h160v-160H620v160ZM180-180h160v-160H180v160Zm440 0h160v-160H620v160Z\"/>\n",
              "  </svg>\n",
              "    </button>\n",
              "\n",
              "  <style>\n",
              "    .colab-df-container {\n",
              "      display:flex;\n",
              "      gap: 12px;\n",
              "    }\n",
              "\n",
              "    .colab-df-convert {\n",
              "      background-color: #E8F0FE;\n",
              "      border: none;\n",
              "      border-radius: 50%;\n",
              "      cursor: pointer;\n",
              "      display: none;\n",
              "      fill: #1967D2;\n",
              "      height: 32px;\n",
              "      padding: 0 0 0 0;\n",
              "      width: 32px;\n",
              "    }\n",
              "\n",
              "    .colab-df-convert:hover {\n",
              "      background-color: #E2EBFA;\n",
              "      box-shadow: 0px 1px 2px rgba(60, 64, 67, 0.3), 0px 1px 3px 1px rgba(60, 64, 67, 0.15);\n",
              "      fill: #174EA6;\n",
              "    }\n",
              "\n",
              "    .colab-df-buttons div {\n",
              "      margin-bottom: 4px;\n",
              "    }\n",
              "\n",
              "    [theme=dark] .colab-df-convert {\n",
              "      background-color: #3B4455;\n",
              "      fill: #D2E3FC;\n",
              "    }\n",
              "\n",
              "    [theme=dark] .colab-df-convert:hover {\n",
              "      background-color: #434B5C;\n",
              "      box-shadow: 0px 1px 3px 1px rgba(0, 0, 0, 0.15);\n",
              "      filter: drop-shadow(0px 1px 2px rgba(0, 0, 0, 0.3));\n",
              "      fill: #FFFFFF;\n",
              "    }\n",
              "  </style>\n",
              "\n",
              "    <script>\n",
              "      const buttonEl =\n",
              "        document.querySelector('#df-299e0bc3-7b68-4cd8-bb68-140b62e0004c button.colab-df-convert');\n",
              "      buttonEl.style.display =\n",
              "        google.colab.kernel.accessAllowed ? 'block' : 'none';\n",
              "\n",
              "      async function convertToInteractive(key) {\n",
              "        const element = document.querySelector('#df-299e0bc3-7b68-4cd8-bb68-140b62e0004c');\n",
              "        const dataTable =\n",
              "          await google.colab.kernel.invokeFunction('convertToInteractive',\n",
              "                                                    [key], {});\n",
              "        if (!dataTable) return;\n",
              "\n",
              "        const docLinkHtml = 'Like what you see? Visit the ' +\n",
              "          '<a target=\"_blank\" href=https://colab.research.google.com/notebooks/data_table.ipynb>data table notebook</a>'\n",
              "          + ' to learn more about interactive tables.';\n",
              "        element.innerHTML = '';\n",
              "        dataTable['output_type'] = 'display_data';\n",
              "        await google.colab.output.renderOutput(dataTable, element);\n",
              "        const docLink = document.createElement('div');\n",
              "        docLink.innerHTML = docLinkHtml;\n",
              "        element.appendChild(docLink);\n",
              "      }\n",
              "    </script>\n",
              "  </div>\n",
              "\n",
              "\n",
              "    <div id=\"df-10955dc4-77ab-48d5-90cd-5a12bd52ce72\">\n",
              "      <button class=\"colab-df-quickchart\" onclick=\"quickchart('df-10955dc4-77ab-48d5-90cd-5a12bd52ce72')\"\n",
              "                title=\"Suggest charts\"\n",
              "                style=\"display:none;\">\n",
              "\n",
              "<svg xmlns=\"http://www.w3.org/2000/svg\" height=\"24px\"viewBox=\"0 0 24 24\"\n",
              "     width=\"24px\">\n",
              "    <g>\n",
              "        <path d=\"M19 3H5c-1.1 0-2 .9-2 2v14c0 1.1.9 2 2 2h14c1.1 0 2-.9 2-2V5c0-1.1-.9-2-2-2zM9 17H7v-7h2v7zm4 0h-2V7h2v10zm4 0h-2v-4h2v4z\"/>\n",
              "    </g>\n",
              "</svg>\n",
              "      </button>\n",
              "\n",
              "<style>\n",
              "  .colab-df-quickchart {\n",
              "      --bg-color: #E8F0FE;\n",
              "      --fill-color: #1967D2;\n",
              "      --hover-bg-color: #E2EBFA;\n",
              "      --hover-fill-color: #174EA6;\n",
              "      --disabled-fill-color: #AAA;\n",
              "      --disabled-bg-color: #DDD;\n",
              "  }\n",
              "\n",
              "  [theme=dark] .colab-df-quickchart {\n",
              "      --bg-color: #3B4455;\n",
              "      --fill-color: #D2E3FC;\n",
              "      --hover-bg-color: #434B5C;\n",
              "      --hover-fill-color: #FFFFFF;\n",
              "      --disabled-bg-color: #3B4455;\n",
              "      --disabled-fill-color: #666;\n",
              "  }\n",
              "\n",
              "  .colab-df-quickchart {\n",
              "    background-color: var(--bg-color);\n",
              "    border: none;\n",
              "    border-radius: 50%;\n",
              "    cursor: pointer;\n",
              "    display: none;\n",
              "    fill: var(--fill-color);\n",
              "    height: 32px;\n",
              "    padding: 0;\n",
              "    width: 32px;\n",
              "  }\n",
              "\n",
              "  .colab-df-quickchart:hover {\n",
              "    background-color: var(--hover-bg-color);\n",
              "    box-shadow: 0 1px 2px rgba(60, 64, 67, 0.3), 0 1px 3px 1px rgba(60, 64, 67, 0.15);\n",
              "    fill: var(--button-hover-fill-color);\n",
              "  }\n",
              "\n",
              "  .colab-df-quickchart-complete:disabled,\n",
              "  .colab-df-quickchart-complete:disabled:hover {\n",
              "    background-color: var(--disabled-bg-color);\n",
              "    fill: var(--disabled-fill-color);\n",
              "    box-shadow: none;\n",
              "  }\n",
              "\n",
              "  .colab-df-spinner {\n",
              "    border: 2px solid var(--fill-color);\n",
              "    border-color: transparent;\n",
              "    border-bottom-color: var(--fill-color);\n",
              "    animation:\n",
              "      spin 1s steps(1) infinite;\n",
              "  }\n",
              "\n",
              "  @keyframes spin {\n",
              "    0% {\n",
              "      border-color: transparent;\n",
              "      border-bottom-color: var(--fill-color);\n",
              "      border-left-color: var(--fill-color);\n",
              "    }\n",
              "    20% {\n",
              "      border-color: transparent;\n",
              "      border-left-color: var(--fill-color);\n",
              "      border-top-color: var(--fill-color);\n",
              "    }\n",
              "    30% {\n",
              "      border-color: transparent;\n",
              "      border-left-color: var(--fill-color);\n",
              "      border-top-color: var(--fill-color);\n",
              "      border-right-color: var(--fill-color);\n",
              "    }\n",
              "    40% {\n",
              "      border-color: transparent;\n",
              "      border-right-color: var(--fill-color);\n",
              "      border-top-color: var(--fill-color);\n",
              "    }\n",
              "    60% {\n",
              "      border-color: transparent;\n",
              "      border-right-color: var(--fill-color);\n",
              "    }\n",
              "    80% {\n",
              "      border-color: transparent;\n",
              "      border-right-color: var(--fill-color);\n",
              "      border-bottom-color: var(--fill-color);\n",
              "    }\n",
              "    90% {\n",
              "      border-color: transparent;\n",
              "      border-bottom-color: var(--fill-color);\n",
              "    }\n",
              "  }\n",
              "</style>\n",
              "\n",
              "      <script>\n",
              "        async function quickchart(key) {\n",
              "          const quickchartButtonEl =\n",
              "            document.querySelector('#' + key + ' button');\n",
              "          quickchartButtonEl.disabled = true;  // To prevent multiple clicks.\n",
              "          quickchartButtonEl.classList.add('colab-df-spinner');\n",
              "          try {\n",
              "            const charts = await google.colab.kernel.invokeFunction(\n",
              "                'suggestCharts', [key], {});\n",
              "          } catch (error) {\n",
              "            console.error('Error during call to suggestCharts:', error);\n",
              "          }\n",
              "          quickchartButtonEl.classList.remove('colab-df-spinner');\n",
              "          quickchartButtonEl.classList.add('colab-df-quickchart-complete');\n",
              "        }\n",
              "        (() => {\n",
              "          let quickchartButtonEl =\n",
              "            document.querySelector('#df-10955dc4-77ab-48d5-90cd-5a12bd52ce72 button');\n",
              "          quickchartButtonEl.style.display =\n",
              "            google.colab.kernel.accessAllowed ? 'block' : 'none';\n",
              "        })();\n",
              "      </script>\n",
              "    </div>\n",
              "\n",
              "    </div>\n",
              "  </div>\n"
            ],
            "application/vnd.google.colaboratory.intrinsic+json": {
              "type": "dataframe",
              "variable_name": "df",
              "summary": "{\n  \"name\": \"df\",\n  \"rows\": 10999,\n  \"fields\": [\n    {\n      \"column\": \"ID\",\n      \"properties\": {\n        \"dtype\": \"number\",\n        \"std\": 3175,\n        \"min\": 1,\n        \"max\": 10999,\n        \"num_unique_values\": 10999,\n        \"samples\": [\n          108,\n          5595,\n          6998\n        ],\n        \"semantic_type\": \"\",\n        \"description\": \"\"\n      }\n    },\n    {\n      \"column\": \"Warehouse_block\",\n      \"properties\": {\n        \"dtype\": \"category\",\n        \"num_unique_values\": 5,\n        \"samples\": [\n          \"F\",\n          \"C\",\n          \"A\"\n        ],\n        \"semantic_type\": \"\",\n        \"description\": \"\"\n      }\n    },\n    {\n      \"column\": \"Mode_of_Shipment\",\n      \"properties\": {\n        \"dtype\": \"category\",\n        \"num_unique_values\": 3,\n        \"samples\": [\n          \"Flight\",\n          \"Ship\",\n          \"Road\"\n        ],\n        \"semantic_type\": \"\",\n        \"description\": \"\"\n      }\n    },\n    {\n      \"column\": \"Customer_care_calls\",\n      \"properties\": {\n        \"dtype\": \"number\",\n        \"std\": 1,\n        \"min\": 2,\n        \"max\": 7,\n        \"num_unique_values\": 6,\n        \"samples\": [\n          4,\n          2,\n          7\n        ],\n        \"semantic_type\": \"\",\n        \"description\": \"\"\n      }\n    },\n    {\n      \"column\": \"Customer_rating\",\n      \"properties\": {\n        \"dtype\": \"number\",\n        \"std\": 1,\n        \"min\": 1,\n        \"max\": 5,\n        \"num_unique_values\": 5,\n        \"samples\": [\n          5,\n          4,\n          3\n        ],\n        \"semantic_type\": \"\",\n        \"description\": \"\"\n      }\n    },\n    {\n      \"column\": \"Cost_of_the_Product\",\n      \"properties\": {\n        \"dtype\": \"number\",\n        \"std\": 48,\n        \"min\": 96,\n        \"max\": 310,\n        \"num_unique_values\": 215,\n        \"samples\": [\n          306,\n          297,\n          262\n        ],\n        \"semantic_type\": \"\",\n        \"description\": \"\"\n      }\n    },\n    {\n      \"column\": \"Prior_purchases\",\n      \"properties\": {\n        \"dtype\": \"number\",\n        \"std\": 1,\n        \"min\": 2,\n        \"max\": 10,\n        \"num_unique_values\": 8,\n        \"samples\": [\n          2,\n          7,\n          3\n        ],\n        \"semantic_type\": \"\",\n        \"description\": \"\"\n      }\n    },\n    {\n      \"column\": \"Product_importance\",\n      \"properties\": {\n        \"dtype\": \"category\",\n        \"num_unique_values\": 3,\n        \"samples\": [\n          \"low\",\n          \"medium\",\n          \"high\"\n        ],\n        \"semantic_type\": \"\",\n        \"description\": \"\"\n      }\n    },\n    {\n      \"column\": \"Gender\",\n      \"properties\": {\n        \"dtype\": \"category\",\n        \"num_unique_values\": 2,\n        \"samples\": [\n          \"M\",\n          \"F\"\n        ],\n        \"semantic_type\": \"\",\n        \"description\": \"\"\n      }\n    },\n    {\n      \"column\": \"Discount_offered\",\n      \"properties\": {\n        \"dtype\": \"number\",\n        \"std\": 16,\n        \"min\": 1,\n        \"max\": 65,\n        \"num_unique_values\": 65,\n        \"samples\": [\n          25,\n          34\n        ],\n        \"semantic_type\": \"\",\n        \"description\": \"\"\n      }\n    },\n    {\n      \"column\": \"Weight_in_gms\",\n      \"properties\": {\n        \"dtype\": \"number\",\n        \"std\": 1635,\n        \"min\": 1001,\n        \"max\": 7846,\n        \"num_unique_values\": 4034,\n        \"samples\": [\n          5483,\n          1238\n        ],\n        \"semantic_type\": \"\",\n        \"description\": \"\"\n      }\n    },\n    {\n      \"column\": \"Reached.on.Time_Y.N\",\n      \"properties\": {\n        \"dtype\": \"number\",\n        \"std\": 0,\n        \"min\": 0,\n        \"max\": 1,\n        \"num_unique_values\": 2,\n        \"samples\": [\n          0,\n          1\n        ],\n        \"semantic_type\": \"\",\n        \"description\": \"\"\n      }\n    }\n  ]\n}"
            }
          },
          "metadata": {},
          "execution_count": 13
        }
      ]
    },
    {
      "cell_type": "markdown",
      "source": [
        "**2. Data Quality & Cleaning**"
      ],
      "metadata": {
        "id": "_0bvRjTtG9qW"
      }
    },
    {
      "source": [
        "import pandas as pd\n",
        "\n",
        "# First, update your file_path accordingly:\n",
        "file_path = '/content/drive/My Drive/Staff Engineer, Analytics & Insights/Train.csv'\n",
        "\n",
        "# Load the dataframe before using it.\n",
        "df = pd.read_csv(file_path)\n",
        "\n",
        "df.dropna(inplace=True)\n",
        "df['Customer_rating'] = df['Customer_rating'].astype(int)\n",
        "df['Cost_of_the_Product'] = df['Cost_of_the_Product'].astype(float)\n",
        "df['Reached.on.Time_Y.N'] = df['Reached.on.Time_Y.N'].replace({0: 'On Time', 1: 'Delayed'})"
      ],
      "cell_type": "code",
      "metadata": {
        "id": "B0CTkxV7H4uz"
      },
      "execution_count": null,
      "outputs": []
    },
    {
      "cell_type": "markdown",
      "source": [
        "df.dropna(inplace=True)\n",
        "df['Customer_rating'] = df['Customer_rating'].astype(int)\n",
        "df['Cost_of_the_Product'] = df['Cost_of_the_Product'].astype(float)\n",
        "df['Reached.on.Time_Y.N'] = df['Reached.on.Time_Y.N'].replace({0: 'On Time', 1: 'Delayed'})\n"
      ],
      "metadata": {
        "id": "1FIOG8G4HrW_"
      }
    },
    {
      "cell_type": "markdown",
      "source": [
        "**3. ETL Transformation (dbt-style logic)**"
      ],
      "metadata": {
        "id": "ZXYksm-EJ4Ii"
      }
    },
    {
      "cell_type": "markdown",
      "source": [
        "**Create a feature for operational KPI tracking:**"
      ],
      "metadata": {
        "id": "Drbn3yb6J_z2"
      }
    },
    {
      "cell_type": "code",
      "source": [
        "df['delivery_risk_score'] = (\n",
        "    df['Customer_care_calls'] * 0.2 +\n",
        "    df['Customer_rating'] * -0.3 +\n",
        "    df['Discount_offered'] * 0.5\n",
        ")\n"
      ],
      "metadata": {
        "id": "yUlNh4FaJ5uO"
      },
      "execution_count": null,
      "outputs": []
    },
    {
      "cell_type": "markdown",
      "source": [
        "**Group by warehouse:**"
      ],
      "metadata": {
        "id": "p7ht1seRKGEW"
      }
    },
    {
      "cell_type": "code",
      "source": [
        "warehouse_summary = df.groupby('Warehouse_block').agg({\n",
        "    'Reached.on.Time_Y.N': lambda x: (x == 'Delayed').mean(),\n",
        "    'delivery_risk_score': 'mean',\n",
        "    'Cost_of_the_Product': 'mean'\n",
        "}).reset_index()\n"
      ],
      "metadata": {
        "id": "-bHXLQVKKJmX"
      },
      "execution_count": null,
      "outputs": []
    },
    {
      "cell_type": "markdown",
      "source": [
        "**Conceptual Enhancement – AGI (Artificial General Intelligence):**"
      ],
      "metadata": {
        "id": "ic24JV_flv65"
      }
    },
    {
      "cell_type": "markdown",
      "source": [
        "- Multi-Agent Optimization: Simulate warehouse agents that autonomously rebalance inventory and allocate carriers\n",
        "\n",
        "- Reinforcement Learning: Adaptively modify discount or shipping modes to minimize delay risk\n",
        "\n",
        "- NLP Integration: Use LLMs to summarize customer complaints into quantifiable inputs\n",
        "\n",
        "- Real-Time Streaming: Integrate traffic/weather APIs and IoT data streams to adjust risk prediction dynamically"
      ],
      "metadata": {
        "id": "bJwbNDz4l4tY"
      }
    },
    {
      "cell_type": "markdown",
      "source": [
        "**Reference**"
      ],
      "metadata": {
        "id": "Eqf9X24Ml_Gi"
      }
    },
    {
      "cell_type": "markdown",
      "source": [
        "- Kaggle Dataset: Customer Analytics\n",
        "\n",
        "- scikit-learn: Classification Models\n",
        "\n",
        "- GitHub Actions Docs: CI/CD Automation\n",
        "\n",
        "- Power BI: Dashboarding Guide\n",
        "\n",
        "- Pandas, Streamlit, and Pytest Docs"
      ],
      "metadata": {
        "id": "WKzDRcPSmJuB"
      }
    }
  ]
}